{
 "cells": [
  {
   "cell_type": "code",
   "execution_count": 38,
   "metadata": {},
   "outputs": [],
   "source": [
    "from collections import Counter\n",
    "import matplotlib.pyplot as plt\n",
    "import numpy as np\n",
    "import pandas as pd\n",
    "%matplotlib inline"
   ]
  },
  {
   "cell_type": "code",
   "execution_count": 39,
   "metadata": {},
   "outputs": [],
   "source": [
    "data = [22, 22, 22, 22, 22, 80, 80, 80, 80, 80, 80, 80, 21, 21, 25, 25, 25, 53]"
   ]
  },
  {
   "cell_type": "code",
   "execution_count": 40,
   "metadata": {},
   "outputs": [
    {
     "data": {
      "text/plain": [
       "[(80, 7), (22, 5), (25, 3), (21, 2), (53, 1)]"
      ]
     },
     "execution_count": 40,
     "metadata": {},
     "output_type": "execute_result"
    }
   ],
   "source": [
    "freq = Counter(data)\n",
    "mostfreq = freq.most_common()\n",
    "mostfreq"
   ]
  },
  {
   "cell_type": "code",
   "execution_count": 41,
   "metadata": {},
   "outputs": [],
   "source": [
    "porcentagem = []\n",
    "for i in mostfreq:\n",
    "    porcentagem.append((i[1]/len(data))*100)"
   ]
  },
  {
   "cell_type": "code",
   "execution_count": 42,
   "metadata": {},
   "outputs": [],
   "source": [
    "porc_pareto = np.cumsum(porcentagem)"
   ]
  },
  {
   "cell_type": "code",
   "execution_count": 43,
   "metadata": {},
   "outputs": [],
   "source": [
    "x_pareto = []\n",
    "y_pareto = []\n",
    "for i in mostfreq:\n",
    "    x_pareto.append(i[0])\n",
    "    y_pareto.append(i[1])"
   ]
  },
  {
   "cell_type": "code",
   "execution_count": 44,
   "metadata": {},
   "outputs": [],
   "source": [
    "df2 = pd.DataFrame({'valores':x_pareto, 'porcentagens':porc_pareto})"
   ]
  },
  {
   "cell_type": "code",
   "execution_count": 45,
   "metadata": {},
   "outputs": [],
   "source": [
    "df = pd.DataFrame(mostfreq, columns = ['valores', 'freq'])"
   ]
  },
  {
   "cell_type": "code",
   "execution_count": 48,
   "metadata": {
    "scrolled": true
   },
   "outputs": [
    {
     "data": {
      "text/plain": [
       "Text(0.5, 1.0, 'Pareto de PortNumber')"
      ]
     },
     "execution_count": 48,
     "metadata": {},
     "output_type": "execute_result"
    },
    {
     "data": {
      "image/png": "[encoded data removed]",
      "text/plain": [
       "<Figure size 432x288 with 2 Axes>"
      ]
     },
     "metadata": {
      "needs_background": "light"
     },
     "output_type": "display_data"
    }
   ],
   "source": [
    "ax = df.groupby(['valores']).median().sort_values(\"freq\",ascending=False).plot(kind='bar',legend=False,width=0.7)\n",
    "plt.xlabel('Valores')\n",
    "plt.ylabel('Frequências')\n",
    "ax2 = df2.porcentagens.plot(secondary_y='porcentagens', kind='line', ax = ax, color='C3', marker='o')\n",
    "plt.ylim(bottom=0)\n",
    "ax2.yaxis.grid()\n",
    "plt.ylabel('Porcentagens')\n",
    "plt.title('Pareto de PortNumber')"
   ]
  },
  {
   "cell_type": "code",
   "execution_count": 50,
   "metadata": {},
   "outputs": [],
   "source": [
    "fig = ax.get_figure()\n",
    "fig.savefig('plot2.png', dpi=200)"
   ]
  },
  {
   "cell_type": "code",
   "execution_count": 181,
   "metadata": {},
   "outputs": [],
   "source": [
    "atrib_freq = [mostfreq[0][0]]\n",
    "for i in mostfreq[1:]: # ignora o primeiro\n",
    "    if i[1] >= 0.7*mostfreq[0][1]: # se a frequência for maior ou igual a 70% do maior, é outro pico\n",
    "        atrib_freq.append(i[0])"
   ]
  },
  {
   "cell_type": "code",
   "execution_count": 196,
   "metadata": {},
   "outputs": [
    {
     "data": {
      "text/plain": [
       "[3, 4]"
      ]
     },
     "execution_count": 196,
     "metadata": {},
     "output_type": "execute_result"
    }
   ],
   "source": [
    "atrib_freq.sort()\n",
    "atrib_freq"
   ]
  },
  {
   "cell_type": "code",
   "execution_count": 197,
   "metadata": {},
   "outputs": [
    {
     "name": "stdout",
     "output_type": "stream",
     "text": [
      "Teste: 3, 4\n"
     ]
    }
   ],
   "source": [
    "print('Teste: ' + ', '.join(str(valor) for valor in atrib_freq))"
   ]
  }
 ],
 "metadata": {
  "kernelspec": {
   "display_name": "Python 3",
   "language": "python",
   "name": "python3"
  },
  "language_info": {
   "codemirror_mode": {
    "name": "ipython",
    "version": 3
   },
   "file_extension": ".py",
   "mimetype": "text/x-python",
   "name": "python",
   "nbconvert_exporter": "python",
   "pygments_lexer": "ipython3",
   "version": "3.7.0"
  }
 },
 "nbformat": 4,
 "nbformat_minor": 2
}
