{
 "cells": [
  {
   "cell_type": "code",
   "execution_count": 1,
   "metadata": {},
   "outputs": [],
   "source": [
    "import json\n",
    "import os\n",
    "import pandas as pd\n",
    "import pymysql"
   ]
  },
  {
   "cell_type": "code",
   "execution_count": 5,
   "metadata": {},
   "outputs": [],
   "source": [
    "def read_atributes(file):\n",
    "\n",
    "    atributos = {}\n",
    "#     remove = ['nFLows']\n",
    "\n",
    "    with open(file, 'r') as signature_file:\n",
    "        signature = json.load(signature_file)\n",
    "        cardinalidade = signature['metadata']['cardinality']\n",
    "        for step in signature['signature']:\n",
    "            for atribute in signature['signature'][step]:\n",
    "#                 if atribute not in remove:\n",
    "                atributos.setdefault(atribute, [signature['signature'][step][atribute]['value_min'],signature['signature'][step][atribute]['value_max']])\n",
    "\n",
    "    return atributos, cardinalidade"
   ]
  },
  {
   "cell_type": "code",
   "execution_count": 77,
   "metadata": {},
   "outputs": [],
   "source": [
    "sig_path = '/home/amanda/Documents/TCC/TCC-tests-master/Assinaturas_sanitizadas/scanvuln/'"
   ]
  },
  {
   "cell_type": "code",
   "execution_count": 78,
   "metadata": {},
   "outputs": [],
   "source": [
    "files = [os.path.join(sig_path, f) for f in os.listdir(sig_path) if os.path.isfile(os.path.join(sig_path, f))]"
   ]
  },
  {
   "cell_type": "code",
   "execution_count": 79,
   "metadata": {},
   "outputs": [],
   "source": [
    "def query(atributos, cardinalidade, tabela):\n",
    "    contar = ['nPortSrc', 'nPortDst', 'nAddrSrc', 'nAddrDst', 'nProto', 'nFLows']\n",
    "    remove = ['nFLows']\n",
    "    flags = {'all_have_tcp_A': 16, \n",
    "             'all_have_tcp_R': 4, \n",
    "             'all_have_tcp_S': 2, \n",
    "             'all_have_tcp_F': 1\n",
    "            }\n",
    "    dic = {'srcport': 'L4_SRC_PORT',\n",
    "            'nPortSrc': 'L4_SRC_PORT',\n",
    "            'nSrcPort': 'L4_SRC_PORT',\n",
    "            'destport': 'L4_DST_PORT',\n",
    "            'nPortDst': 'L4_DST_PORT',\n",
    "            'nDestPort': 'L4_DST_PORT',\n",
    "            'nAddrSrc': 'IPV4_SRC_ADDR',\n",
    "            'nAddrDst': 'IPV4_DST_ADDR',\n",
    "            'proto': 'PROTOCOL',\n",
    "            'nProto': 'PROTOCOL',\n",
    "            'nBytesSrc': 'IN_BYTES',\n",
    "            'nBytesDst': 'OUT_BYTES',\n",
    "            'nPcktsSrc': 'IN_PKTS',\n",
    "            'nPktsSrc': 'IN_PKTS',\n",
    "            'nPcktsDst': 'OUT_PKTS',\n",
    "            'nPktsDst': 'OUT_PKTS'\n",
    "            }\n",
    "    \n",
    "#     for atrib_name, atrib_value in atributos.items():\n",
    "#         if atrib_name in remove:\n",
    "#             prefixo = 'select count(*) as nFLows'\n",
    "#         else:\n",
    "#             prefixo = 'select count(*)'\n",
    "    prefixo = 'select count(*) as contagem'\n",
    "    \n",
    "    for atrib_name, atrib_value in atributos.items():\n",
    "        if atrib_name in contar and atrib_name not in remove:\n",
    "            prefixo += ', count(distinct ' + dic[atrib_name] + ') as ' + str(atrib_name)\n",
    "        \n",
    "    sql = prefixo + ' from ' + tabela + ' where '\n",
    "    statement = ''\n",
    "    cont = 0\n",
    "    queries = []\n",
    "    \n",
    "    for atrib_name, atrib_value in atributos.items():\n",
    "        if atrib_name not in contar and atrib_name not in flags:\n",
    "            if cont != 0:\n",
    "                statement += ' AND '\n",
    "            statement += '(' + dic[atrib_name] + ' between ' + str(atrib_value[0]) + ' AND ' + str(atrib_value[1]) + ')'\n",
    "            \n",
    "        cont = cont + 1\n",
    "    \n",
    "    soma_flags = 0\n",
    "    for atrib_name, atrib_value in atributos.items():\n",
    "        if atrib_name in flags:\n",
    "            soma_flags += flags[atrib_name]\n",
    "    \n",
    "    # Se soma_flags for diferente de zero\n",
    "    if soma_flags:\n",
    "        statement += ' AND ((TCP_FLAGS = ' + str(soma_flags) + ') OR (TCP_FLAGS = ' + str(soma_flags+8) + ') OR (TCP_FLAGS = ' + str(soma_flags+32) + ') OR (TCP_FLAGS = ' + str(soma_flags+8+32) + '))'\n",
    "            \n",
    "    minimo = 1\n",
    "    for interval in range(1000,51000,1000):\n",
    "        if cardinalidade == '1-N':\n",
    "            sufixo = ' AND (idx between ' + str(minimo) + ' AND ' + str(interval) + ') group by IPV4_SRC_ADDR;'\n",
    "        elif cardinalidade == 'N-1':\n",
    "            sufixo = ' AND (idx between ' + str(minimo) + ' AND ' + str(interval) + ') group by IPV4_DST_ADDR;'\n",
    "        else:\n",
    "            sufixo = ' AND (idx between ' + str(minimo) + ' AND ' + str(interval) + ') group by IPV4_SRC_ADDR, IPV4_DST_ADDR;'\n",
    "        minimo = interval+1\n",
    "        queries.append(sql + statement + sufixo)\n",
    "#         print(sql + statement + sufixo)\n",
    "\n",
    "    return queries"
   ]
  },
  {
   "cell_type": "code",
   "execution_count": 80,
   "metadata": {},
   "outputs": [],
   "source": [
    "def consultar(query):\n",
    "    db = pymysql.connect(\"200.145.216.190\",\"root\",\"1nstalation\",\"ntopng\")\n",
    "    cursor = db.cursor()\n",
    "    try:\n",
    "        cursor.execute(query)\n",
    "        columns = [column[0] for column in cursor.description]\n",
    "        results = cursor.fetchall()\n",
    "        db.close()\n",
    "        return columns, results\n",
    "    except:\n",
    "        print (\"Error: unable to fecth data\")\n",
    "        return [], ()\n",
    "        db.close()"
   ]
  },
  {
   "cell_type": "code",
   "execution_count": 81,
   "metadata": {},
   "outputs": [
    {
     "name": "stdout",
     "output_type": "stream",
     "text": [
      "\n",
      "\n",
      "Assinatura: /home/amanda/Documents/TCC/TCC-tests-master/Assinaturas_sanitizadas/scanvuln/scanvuln10.sig\n",
      "\n",
      "\n",
      "Assinatura: /home/amanda/Documents/TCC/TCC-tests-master/Assinaturas_sanitizadas/scanvuln/scanvuln7.sig\n",
      "\n",
      "\n",
      "Assinatura: /home/amanda/Documents/TCC/TCC-tests-master/Assinaturas_sanitizadas/scanvuln/scanvuln8.sig\n",
      "\n",
      "\n",
      "Assinatura: /home/amanda/Documents/TCC/TCC-tests-master/Assinaturas_sanitizadas/scanvuln/scanvuln2.sig\n",
      "\n",
      "\n",
      "Assinatura: /home/amanda/Documents/TCC/TCC-tests-master/Assinaturas_sanitizadas/scanvuln/scanvuln6.sig\n",
      "\n",
      "\n",
      "Assinatura: /home/amanda/Documents/TCC/TCC-tests-master/Assinaturas_sanitizadas/scanvuln/scanvuln9.sig\n",
      "\n",
      "\n",
      "Assinatura: /home/amanda/Documents/TCC/TCC-tests-master/Assinaturas_sanitizadas/scanvuln/scanvuln1.sig\n",
      "\n",
      "\n",
      "Assinatura: /home/amanda/Documents/TCC/TCC-tests-master/Assinaturas_sanitizadas/scanvuln/scanvuln5.sig\n",
      "\n",
      "\n",
      "Assinatura: /home/amanda/Documents/TCC/TCC-tests-master/Assinaturas_sanitizadas/scanvuln/scanvuln3.sig\n",
      "\n",
      "\n",
      "Assinatura: /home/amanda/Documents/TCC/TCC-tests-master/Assinaturas_sanitizadas/scanvuln/scanvuln4.sig\n",
      "\n",
      "Verdadeiro Positivo: 500\n",
      "\n",
      "Falso Negativo: 0\n",
      "\n",
      "Falso Positivo: 9\n",
      "\n",
      "Verdadeiro Negativo: 491\n",
      "\n",
      "\n",
      "Sensibilidade = 1.0\n",
      "\n",
      "Especificidade = 0.982\n",
      "\n",
      "Acurácia = 0.991\n",
      "\n",
      "Precisão = 0.9823182711198428\n"
     ]
    }
   ],
   "source": [
    "queries = []\n",
    "vp = 0\n",
    "vn = 0\n",
    "fp = 0\n",
    "fn = 0\n",
    "\n",
    "total = 50 * len(files) * 2\n",
    "\n",
    "for file in files:\n",
    "    print('\\n\\nAssinatura: ' + str(file))\n",
    "    atributos, cardinalidade = read_atributes(file)\n",
    "    queries = query(atributos, cardinalidade, 'scanvuln_flows')\n",
    "    \n",
    "    for sql in queries:\n",
    "        colunas, resultados = consultar(sql)\n",
    "        df = pd.DataFrame(list(resultados), columns=colunas)\n",
    "        classificador = 1 # É um verdadeiro positivo\n",
    "        for coluna in colunas:\n",
    "            for valor in df[coluna].values:\n",
    "                if coluna == 'contagem':\n",
    "                    if valor == 0:\n",
    "                        # É um falso negativo\n",
    "                        classificador = 0\n",
    "                elif not(atributos[coluna][0] <= valor <= atributos[coluna][1]):\n",
    "                    # É um falso negativo\n",
    "                    classificador = 0\n",
    "        \n",
    "        if (classificador):\n",
    "            vp = vp + 1\n",
    "        else:\n",
    "            fn = fn + 1\n",
    "    \n",
    "    queries = query(atributos, cardinalidade, 'leg_flows')\n",
    "    \n",
    "    for sql in queries:\n",
    "        colunas, resultados = consultar(sql)\n",
    "        df = pd.DataFrame(list(resultados), columns=colunas)\n",
    "        classificador = 1 # É um verdadeiro negativo\n",
    "        for coluna in colunas:\n",
    "            for valor in df[coluna].values:\n",
    "                if coluna == 'contagem':\n",
    "                    if valor > 0:\n",
    "                        # É um falso positivo\n",
    "                        classificador = 0\n",
    "                elif atributos[coluna][0] <= valor <= atributos[coluna][1]:\n",
    "                    # É um falso positivo\n",
    "                    classificador = 0\n",
    "                    \n",
    "        if (classificador):\n",
    "            vn = vn + 1\n",
    "        else:\n",
    "            fp = fp + 1\n",
    "        \n",
    "    \n",
    "print('\\nVerdadeiro Positivo: ' + str(vp))\n",
    "print('\\nFalso Negativo: ' + str(fn))\n",
    "print('\\nFalso Positivo: ' + str(fp))\n",
    "print('\\nVerdadeiro Negativo: ' + str(vn))\n",
    "\n",
    "print('\\n\\nSensibilidade = ' + str(vp/(vp + fn)))\n",
    "print('\\nEspecificidade = ' + str(vn/(vn + fp)))\n",
    "print('\\nAcurácia = ' + str((vp + vn)/total))\n",
    "print('\\nPrecisão = ' + str(vp/(vp + fp)))"
   ]
  },
  {
   "cell_type": "code",
   "execution_count": 45,
   "metadata": {},
   "outputs": [],
   "source": [
    "colunas, resultados = consultar('select count(*) as contagem, count(distinct L4_SRC_PORT) as nPortSrc from leg_flows where (L4_DST_PORT between 80 AND 80) AND (PROTOCOL between 6 AND 6) AND (idx between 40001 AND 41000) group by IPV4_SRC_ADDR, IPV4_DST_ADDR;')"
   ]
  },
  {
   "cell_type": "code",
   "execution_count": 46,
   "metadata": {},
   "outputs": [
    {
     "data": {
      "text/plain": [
       "['contagem', 'nPortSrc']"
      ]
     },
     "execution_count": 46,
     "metadata": {},
     "output_type": "execute_result"
    }
   ],
   "source": [
    "colunas"
   ]
  },
  {
   "cell_type": "code",
   "execution_count": 47,
   "metadata": {},
   "outputs": [
    {
     "data": {
      "text/plain": [
       "((1, 1), (1, 1))"
      ]
     },
     "execution_count": 47,
     "metadata": {},
     "output_type": "execute_result"
    }
   ],
   "source": [
    "resultados"
   ]
  },
  {
   "cell_type": "code",
   "execution_count": 48,
   "metadata": {},
   "outputs": [],
   "source": [
    "df = pd.DataFrame(list(resultados), columns=colunas)"
   ]
  },
  {
   "cell_type": "code",
   "execution_count": 49,
   "metadata": {},
   "outputs": [
    {
     "data": {
      "text/html": [
       "<div>\n",
       "<style scoped>\n",
       "    .dataframe tbody tr th:only-of-type {\n",
       "        vertical-align: middle;\n",
       "    }\n",
       "\n",
       "    .dataframe tbody tr th {\n",
       "        vertical-align: top;\n",
       "    }\n",
       "\n",
       "    .dataframe thead th {\n",
       "        text-align: right;\n",
       "    }\n",
       "</style>\n",
       "<table border=\"1\" class=\"dataframe\">\n",
       "  <thead>\n",
       "    <tr style=\"text-align: right;\">\n",
       "      <th></th>\n",
       "      <th>contagem</th>\n",
       "      <th>nPortSrc</th>\n",
       "    </tr>\n",
       "  </thead>\n",
       "  <tbody>\n",
       "    <tr>\n",
       "      <th>0</th>\n",
       "      <td>1</td>\n",
       "      <td>1</td>\n",
       "    </tr>\n",
       "    <tr>\n",
       "      <th>1</th>\n",
       "      <td>1</td>\n",
       "      <td>1</td>\n",
       "    </tr>\n",
       "  </tbody>\n",
       "</table>\n",
       "</div>"
      ],
      "text/plain": [
       "   contagem  nPortSrc\n",
       "0         1         1\n",
       "1         1         1"
      ]
     },
     "execution_count": 49,
     "metadata": {},
     "output_type": "execute_result"
    }
   ],
   "source": [
    "df"
   ]
  },
  {
   "cell_type": "code",
   "execution_count": 52,
   "metadata": {},
   "outputs": [
    {
     "ename": "KeyError",
     "evalue": "'nPortSrc'",
     "output_type": "error",
     "traceback": [
      "\u001b[0;31m---------------------------------------------------------------------------\u001b[0m",
      "\u001b[0;31mKeyError\u001b[0m                                  Traceback (most recent call last)",
      "\u001b[0;32m<ipython-input-52-f44423a5f6a6>\u001b[0m in \u001b[0;36m<module>\u001b[0;34m()\u001b[0m\n\u001b[1;32m      6\u001b[0m                 \u001b[0;31m# É um falso positivo\u001b[0m\u001b[0;34m\u001b[0m\u001b[0;34m\u001b[0m\u001b[0m\n\u001b[1;32m      7\u001b[0m                 \u001b[0mclassificador\u001b[0m \u001b[0;34m=\u001b[0m \u001b[0;36m0\u001b[0m\u001b[0;34m\u001b[0m\u001b[0m\n\u001b[0;32m----> 8\u001b[0;31m         \u001b[0;32melif\u001b[0m \u001b[0matributos\u001b[0m\u001b[0;34m[\u001b[0m\u001b[0mcoluna\u001b[0m\u001b[0;34m]\u001b[0m\u001b[0;34m[\u001b[0m\u001b[0;36m0\u001b[0m\u001b[0;34m]\u001b[0m \u001b[0;34m<=\u001b[0m \u001b[0mvalor\u001b[0m \u001b[0;34m<=\u001b[0m \u001b[0matributos\u001b[0m\u001b[0;34m[\u001b[0m\u001b[0mcoluna\u001b[0m\u001b[0;34m]\u001b[0m\u001b[0;34m[\u001b[0m\u001b[0;36m1\u001b[0m\u001b[0;34m]\u001b[0m\u001b[0;34m:\u001b[0m\u001b[0;34m\u001b[0m\u001b[0m\n\u001b[0m\u001b[1;32m      9\u001b[0m             \u001b[0;31m# É um falso positivo\u001b[0m\u001b[0;34m\u001b[0m\u001b[0;34m\u001b[0m\u001b[0m\n\u001b[1;32m     10\u001b[0m             \u001b[0mclassificador\u001b[0m \u001b[0;34m=\u001b[0m \u001b[0;36m0\u001b[0m\u001b[0;34m\u001b[0m\u001b[0m\n",
      "\u001b[0;31mKeyError\u001b[0m: 'nPortSrc'"
     ]
    }
   ],
   "source": [
    "classificador = 1 # É um verdadeiro negativo\n",
    "for coluna in colunas:\n",
    "    for valor in df[coluna].values:\n",
    "        if coluna == 'contagem':\n",
    "            if valor > 0:\n",
    "                # É um falso positivo\n",
    "                classificador = 0\n",
    "        elif atributos[coluna][0] <= valor <= atributos[coluna][1]:\n",
    "            # É um falso positivo\n",
    "            classificador = 0"
   ]
  },
  {
   "cell_type": "code",
   "execution_count": 51,
   "metadata": {},
   "outputs": [
    {
     "data": {
      "text/plain": [
       "0"
      ]
     },
     "execution_count": 51,
     "metadata": {},
     "output_type": "execute_result"
    }
   ],
   "source": [
    "classificador"
   ]
  },
  {
   "cell_type": "code",
   "execution_count": null,
   "metadata": {},
   "outputs": [],
   "source": []
  }
 ],
 "metadata": {
  "kernelspec": {
   "display_name": "Python 3",
   "language": "python",
   "name": "python3"
  },
  "language_info": {
   "codemirror_mode": {
    "name": "ipython",
    "version": 3
   },
   "file_extension": ".py",
   "mimetype": "text/x-python",
   "name": "python",
   "nbconvert_exporter": "python",
   "pygments_lexer": "ipython3",
   "version": "3.7.0"
  }
 },
 "nbformat": 4,
 "nbformat_minor": 2
}
