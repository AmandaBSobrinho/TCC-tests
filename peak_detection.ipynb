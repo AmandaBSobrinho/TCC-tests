{
 "cells": [
  {
   "cell_type": "code",
   "execution_count": 1,
   "metadata": {},
   "outputs": [],
   "source": [
    "from collections import Counter\n",
    "from itertools import takewhile\n",
    "import numpy as np\n",
    "import matplotlib.pyplot as plt\n",
    "import pandas as pd"
   ]
  },
  {
   "cell_type": "code",
   "execution_count": 2,
   "metadata": {},
   "outputs": [],
   "source": [
    "# data = [1, 2, 3, 4, 4, 4, 4, 4, 4, 4, 5, 6, 7, 7, 8, 8, 8, 8, 8, 8, 8, 9, 9, 11, 11, 11, 11, 11, 11, 12, 12, 12,\n",
    "#        12, 12, 12, 13, 13, 14]\n",
    "# data = [1, 2, 3, 4, 4, 4, 4, 4, 4, 4, 5, 5, 5, 5, 5, 5, 5, 6, 6, 6, 6, 6, 6, 7, 7, 7, 7, 7, 7, 8, 8, 8, 9, 9]\n",
    "# data = [531, 998, 426, 379, 616, 998, 998, 998, 379, 616, 998, 531, 616, 910, 835, 910, 835, 910, 379, 998, 666, 666, 998, 666, 998, 666, 835, 998, 616, 998, 998, 998, 616, 379, 998, 910, 426, 379, 379, 426, 379, 426, 616, 835, 379, 998, 531, 616, 998, 531, 616, 998]\n",
    "data = [350, 341, 341, 347, 351, 340, 345, 351, 345, 350, 346, 345, 350, 271, 340, 347, 271, 341, 346, 351, 340, 351, 347, 271, 341, 346, 350, 351, 351, 351, 342, 345, 345, 346, 347, 342, 271, 350, 342, 351, 342, 340, 341, 346, 340, 271, 342, 347, 351, 351]\n",
    "data.sort()"
   ]
  },
  {
   "cell_type": "code",
   "execution_count": 3,
   "metadata": {},
   "outputs": [
    {
     "data": {
      "text/plain": [
       "[(351, 10),\n",
       " (271, 5),\n",
       " (340, 5),\n",
       " (341, 5),\n",
       " (342, 5),\n",
       " (345, 5),\n",
       " (346, 5),\n",
       " (347, 5),\n",
       " (350, 5)]"
      ]
     },
     "execution_count": 3,
     "metadata": {},
     "output_type": "execute_result"
    }
   ],
   "source": [
    "freq = Counter(data)\n",
    "mostfreq = freq.most_common()\n",
    "mostfreq"
   ]
  },
  {
   "cell_type": "code",
   "execution_count": 5,
   "metadata": {},
   "outputs": [],
   "source": [
    "# modes = list(takewhile(lambda x_f: x_f[1] == mostfreq[0][1], mostfreq))\n",
    "# modes"
   ]
  },
  {
   "cell_type": "code",
   "execution_count": 6,
   "metadata": {},
   "outputs": [],
   "source": [
    "# mostfreq.reverse()\n",
    "# mostfreq"
   ]
  },
  {
   "cell_type": "code",
   "execution_count": 7,
   "metadata": {},
   "outputs": [],
   "source": [
    "# less = list(takewhile(lambda x_f: x_f[1] == mostfreq[0][1], mostfreq))\n",
    "# less"
   ]
  },
  {
   "cell_type": "code",
   "execution_count": 8,
   "metadata": {},
   "outputs": [
    {
     "data": {
      "text/html": [
       "<div>\n",
       "<style scoped>\n",
       "    .dataframe tbody tr th:only-of-type {\n",
       "        vertical-align: middle;\n",
       "    }\n",
       "\n",
       "    .dataframe tbody tr th {\n",
       "        vertical-align: top;\n",
       "    }\n",
       "\n",
       "    .dataframe thead th {\n",
       "        text-align: right;\n",
       "    }\n",
       "</style>\n",
       "<table border=\"1\" class=\"dataframe\">\n",
       "  <thead>\n",
       "    <tr style=\"text-align: right;\">\n",
       "      <th></th>\n",
       "      <th>valores</th>\n",
       "    </tr>\n",
       "  </thead>\n",
       "  <tbody>\n",
       "    <tr>\n",
       "      <th>count</th>\n",
       "      <td>52.000000</td>\n",
       "    </tr>\n",
       "    <tr>\n",
       "      <th>mean</th>\n",
       "      <td>719.230769</td>\n",
       "    </tr>\n",
       "    <tr>\n",
       "      <th>std</th>\n",
       "      <td>240.541922</td>\n",
       "    </tr>\n",
       "    <tr>\n",
       "      <th>min</th>\n",
       "      <td>379.000000</td>\n",
       "    </tr>\n",
       "    <tr>\n",
       "      <th>25%</th>\n",
       "      <td>531.000000</td>\n",
       "    </tr>\n",
       "    <tr>\n",
       "      <th>50%</th>\n",
       "      <td>666.000000</td>\n",
       "    </tr>\n",
       "    <tr>\n",
       "      <th>75%</th>\n",
       "      <td>998.000000</td>\n",
       "    </tr>\n",
       "    <tr>\n",
       "      <th>max</th>\n",
       "      <td>998.000000</td>\n",
       "    </tr>\n",
       "  </tbody>\n",
       "</table>\n",
       "</div>"
      ],
      "text/plain": [
       "          valores\n",
       "count   52.000000\n",
       "mean   719.230769\n",
       "std    240.541922\n",
       "min    379.000000\n",
       "25%    531.000000\n",
       "50%    666.000000\n",
       "75%    998.000000\n",
       "max    998.000000"
      ]
     },
     "execution_count": 8,
     "metadata": {},
     "output_type": "execute_result"
    }
   ],
   "source": [
    "df = pd.DataFrame(data, columns = ['valores'])\n",
    "df.describe()"
   ]
  },
  {
   "cell_type": "code",
   "execution_count": 36,
   "metadata": {},
   "outputs": [
    {
     "data": {
      "image/png": "[encoded data removed]",
      "text/plain": [
       "<Figure size 432x288 with 1 Axes>"
      ]
     },
     "metadata": {
      "needs_background": "light"
     },
     "output_type": "display_data"
    }
   ],
   "source": [
    "# fig = plt.figure()\n",
    "ax = df.hist(histtype='step',grid=0,bins=14)"
   ]
  },
  {
   "cell_type": "code",
   "execution_count": 37,
   "metadata": {},
   "outputs": [
    {
     "ename": "AttributeError",
     "evalue": "'numpy.ndarray' object has no attribute 'get_figure'",
     "output_type": "error",
     "traceback": [
      "\u001b[0;31m---------------------------------------------------------------------------\u001b[0m",
      "\u001b[0;31mAttributeError\u001b[0m                            Traceback (most recent call last)",
      "\u001b[0;32m<ipython-input-37-e6a05994df9e>\u001b[0m in \u001b[0;36m<module>\u001b[0;34m\u001b[0m\n\u001b[0;32m----> 1\u001b[0;31m \u001b[0mfig\u001b[0m \u001b[0;34m=\u001b[0m \u001b[0max\u001b[0m\u001b[0;34m.\u001b[0m\u001b[0mget_figure\u001b[0m\u001b[0;34m(\u001b[0m\u001b[0;34m)\u001b[0m\u001b[0;34m\u001b[0m\u001b[0m\n\u001b[0m\u001b[1;32m      2\u001b[0m \u001b[0mfig\u001b[0m\u001b[0;34m.\u001b[0m\u001b[0msavefig\u001b[0m\u001b[0;34m(\u001b[0m\u001b[0;34m'plot.png'\u001b[0m\u001b[0;34m,\u001b[0m \u001b[0mdpi\u001b[0m\u001b[0;34m=\u001b[0m\u001b[0;36m200\u001b[0m\u001b[0;34m)\u001b[0m\u001b[0;34m\u001b[0m\u001b[0m\n",
      "\u001b[0;31mAttributeError\u001b[0m: 'numpy.ndarray' object has no attribute 'get_figure'"
     ]
    }
   ],
   "source": [
    "fig = ax.\n",
    "fig.savefig('plot.png', dpi=200)"
   ]
  },
  {
   "cell_type": "code",
   "execution_count": 10,
   "metadata": {},
   "outputs": [
    {
     "data": {
      "text/plain": [
       "[(998, 16)]"
      ]
     },
     "execution_count": 10,
     "metadata": {},
     "output_type": "execute_result"
    }
   ],
   "source": [
    "moda = mostfreq[0]\n",
    "picos_iniciais = [moda]\n",
    "picos_iniciais"
   ]
  },
  {
   "cell_type": "code",
   "execution_count": 11,
   "metadata": {},
   "outputs": [],
   "source": [
    "for i in mostfreq[1:]: # ignora o primeiro\n",
    "    if i[1] >= 0.7*moda[1]: # se a frequência for maior ou igual a 70% do maior, é outro pico\n",
    "        picos_iniciais.append(i)"
   ]
  },
  {
   "cell_type": "code",
   "execution_count": 12,
   "metadata": {},
   "outputs": [
    {
     "data": {
      "text/plain": [
       "[(998, 16)]"
      ]
     },
     "execution_count": 12,
     "metadata": {},
     "output_type": "execute_result"
    }
   ],
   "source": [
    "picos_iniciais"
   ]
  },
  {
   "cell_type": "code",
   "execution_count": 13,
   "metadata": {},
   "outputs": [],
   "source": [
    "# É preciso filtrar os picos pela vizinhança: só é um pico mesmo se existe um valor que não é um pico entre\n",
    "# os picos\n",
    "picos = [picos_iniciais[0]] # o primeiro é sempre um pico\n",
    "for i in range(len(picos_iniciais)-1):\n",
    "    for j in mostfreq:\n",
    "        if j[0] > picos_iniciais[i][0] and j[0] < picos_iniciais[i+1][0]: # existe alguém que não é um pico entre os picos\n",
    "            picos.append(picos_iniciais[i+1])\n",
    "            break"
   ]
  },
  {
   "cell_type": "code",
   "execution_count": 14,
   "metadata": {},
   "outputs": [
    {
     "data": {
      "text/plain": [
       "[(998, 16)]"
      ]
     },
     "execution_count": 14,
     "metadata": {},
     "output_type": "execute_result"
    }
   ],
   "source": [
    "picos"
   ]
  },
  {
   "cell_type": "code",
   "execution_count": 15,
   "metadata": {},
   "outputs": [],
   "source": [
    "# Definindo o ponto de corte entre dois picos\n",
    "def ponto_corte(pico1, pico2):\n",
    "    corte = 100000,100000\n",
    "    for i in mostfreq:\n",
    "        if i[0] >= pico1[0] and i[0] <= pico2[0]:\n",
    "            if i[1] < corte[1]:\n",
    "                corte = i\n",
    "    return corte"
   ]
  },
  {
   "cell_type": "code",
   "execution_count": 16,
   "metadata": {},
   "outputs": [],
   "source": [
    "# Divide um array em dois em um ponto de valor específico\n",
    "def dividir(arr, valor):\n",
    "    return arr[arr<valor], arr[~(arr<valor)]"
   ]
  },
  {
   "cell_type": "code",
   "execution_count": 17,
   "metadata": {},
   "outputs": [],
   "source": [
    "entrada = np.array(data)\n",
    "if len(picos) > 1: # se tiver mais de um pico, é preciso definir o(s) ponto(s) de corte\n",
    "    corte = []\n",
    "    for i in range(len(picos)-1):\n",
    "        pico1 = picos[i]\n",
    "        pico2 = picos[i+1]\n",
    "        corte.append(ponto_corte(pico1,pico2)) # definição do(s) ponto(s) de corte\n",
    "    # subdivisão do array de entrada no(s) ponto(s) de corte\n",
    "    num_cortes = len(corte)\n",
    "    histogramas = []\n",
    "    for i in range(num_cortes):\n",
    "        trecho_entrada,entrada = dividir(entrada,corte[i][0])\n",
    "        histogramas.append(trecho_entrada)\n",
    "    histogramas.append(entrada)\n",
    "else: # se tiver só um pico, retorna a própria entrada\n",
    "    histogramas.append(entrada)"
   ]
  },
  {
   "cell_type": "code",
   "execution_count": 25,
   "metadata": {},
   "outputs": [
    {
     "data": {
      "text/plain": [
       "[array([1, 2, 3, 4, 4, 4, 4, 4, 4, 4]),\n",
       " array([5, 6, 7, 7, 8, 8, 8, 8, 8, 8, 8]),\n",
       " array([ 9,  9, 11, 11, 11, 11, 11, 11, 12, 12, 12, 12, 12, 12, 13, 13, 14])]"
      ]
     },
     "execution_count": 25,
     "metadata": {},
     "output_type": "execute_result"
    }
   ],
   "source": [
    "histogramas"
   ]
  },
  {
   "cell_type": "code",
   "execution_count": null,
   "metadata": {},
   "outputs": [],
   "source": []
  }
 ],
 "metadata": {
  "kernelspec": {
   "display_name": "Python 3",
   "language": "python",
   "name": "python3"
  },
  "language_info": {
   "codemirror_mode": {
    "name": "ipython",
    "version": 3
   },
   "file_extension": ".py",
   "mimetype": "text/x-python",
   "name": "python",
   "nbconvert_exporter": "python",
   "pygments_lexer": "ipython3",
   "version": "3.7.0"
  }
 },
 "nbformat": 4,
 "nbformat_minor": 2
}
