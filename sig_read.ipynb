{
 "cells": [
  {
   "cell_type": "code",
   "execution_count": 77,
   "metadata": {},
   "outputs": [],
   "source": [
    "import json\n",
    "from os import listdir\n",
    "from os.path import isfile, join\n",
    "from collections import defaultdict"
   ]
  },
  {
   "cell_type": "code",
   "execution_count": 98,
   "metadata": {},
   "outputs": [
    {
     "name": "stdout",
     "output_type": "stream",
     "text": [
      "Caminho: /home/amanda/Documents/TCC/Code-Tests/Signatures/\n"
     ]
    }
   ],
   "source": [
    "sig_path = input(\"Caminho: \")"
   ]
  },
  {
   "cell_type": "code",
   "execution_count": 99,
   "metadata": {},
   "outputs": [
    {
     "data": {
      "text/plain": [
       "['/home/amanda/Documents/TCC/Code-Tests/Signatures/sig_example_1.txt',\n",
       " '/home/amanda/Documents/TCC/Code-Tests/Signatures/sig_example_2.txt']"
      ]
     },
     "execution_count": 99,
     "metadata": {},
     "output_type": "execute_result"
    }
   ],
   "source": [
    "files = [join(sig_path, f) for f in listdir(sig_path) if isfile(join(sig_path, f))]\n",
    "files"
   ]
  },
  {
   "cell_type": "code",
   "execution_count": 100,
   "metadata": {},
   "outputs": [],
   "source": [
    "qualitativos = {}\n",
    "quantitativos = {}"
   ]
  },
  {
   "cell_type": "code",
   "execution_count": 101,
   "metadata": {},
   "outputs": [],
   "source": [
    "for file in files:\n",
    "    with open(file,'r') as signature_file:\n",
    "        signature = json.load(signature_file)\n",
    "        for step in signature['signature']:\n",
    "            for atribute in signature['signature'][step]:\n",
    "                if signature['signature'][step][atribute]['operator'] == 'equal':\n",
    "                    qualitativos.setdefault(atribute, []).append(signature['signature'][step][atribute]['value_max'])\n",
    "                if signature['signature'][step][atribute]['operator'] == 'interval':\n",
    "                    quantitativos.setdefault(atribute, []).append(signature['signature'][step][atribute]['value'])"
   ]
  },
  {
   "cell_type": "code",
   "execution_count": 102,
   "metadata": {},
   "outputs": [
    {
     "data": {
      "text/plain": [
       "{'PortDest': [2, 2]}"
      ]
     },
     "execution_count": 102,
     "metadata": {},
     "output_type": "execute_result"
    }
   ],
   "source": [
    "qualitativos"
   ]
  },
  {
   "cell_type": "code",
   "execution_count": 103,
   "metadata": {},
   "outputs": [
    {
     "data": {
      "text/plain": [
       "{'nBytesSrc': [200, 255], 'nPortSrc': [100, 101]}"
      ]
     },
     "execution_count": 103,
     "metadata": {},
     "output_type": "execute_result"
    }
   ],
   "source": [
    "quantitativos"
   ]
  },
  {
   "cell_type": "code",
   "execution_count": null,
   "metadata": {},
   "outputs": [],
   "source": []
  }
 ],
 "metadata": {
  "kernelspec": {
   "display_name": "Python 3",
   "language": "python",
   "name": "python3"
  },
  "language_info": {
   "codemirror_mode": {
    "name": "ipython",
    "version": 3
   },
   "file_extension": ".py",
   "mimetype": "text/x-python",
   "name": "python",
   "nbconvert_exporter": "python",
   "pygments_lexer": "ipython3",
   "version": "3.7.0"
  }
 },
 "nbformat": 4,
 "nbformat_minor": 2
}
